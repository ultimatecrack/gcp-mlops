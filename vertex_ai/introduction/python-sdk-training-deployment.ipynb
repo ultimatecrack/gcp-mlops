{
 "cells": [
  {
   "cell_type": "code",
   "execution_count": null,
   "id": "d2d955a6-126b-452a-b1bf-e34344aa36d9",
   "metadata": {},
   "outputs": [],
   "source": [
    "from google.cloud import aiplatform"
   ]
  },
  {
   "cell_type": "code",
   "execution_count": null,
   "id": "c30f4b06-7c55-413f-889a-65646d92ec44",
   "metadata": {},
   "outputs": [],
   "source": [
    "project_id = \"udemy-mlops\"\n",
    "region = \"us-central1\"\n",
    "staging_bucket=\"gs://sid-vertex-mlops\"\n",
    "\n",
    "aiplatform.init(project=project_id, location=region, staging_bucket=staging_bucket)\n",
    "\n",
    "job = aiplatform.CustomTrainingJob(\n",
    "        display_name=\"bikeshare-training-job\",\n",
    "        script_path=\"model-training-code.py\",\n",
    "        container_uri=\"us-docker.pkg.dev/vertex-ai/training/scikit-learn-cpu.0-23:latest\",\n",
    "        requirements=[\"gcsfs\"]\n",
    "    )\n",
    "\n",
    "job.run(\n",
    "    replica_count=1,\n",
    "    machine_type=\"n1-standard-4\",\n",
    "    sync=True\n",
    ")\n",
    "job.wait()"
   ]
  },
  {
   "cell_type": "code",
   "execution_count": null,
   "id": "7eac9ca3-a932-49d7-ae3a-386f62323045",
   "metadata": {},
   "outputs": [],
   "source": [
    "display_name = \"bikeshare-model-sdk\"\n",
    "artifact_uri = \"gs://sid-ml-ops/bike-share-rf-regression-artifact/\"\n",
    "serving_container_image_uri = \"us-docker.pkg.dev/vertex-ai/prediction/sklearn-cpu.1-0:latest\"\n",
    "\n",
    "model = aiplatform.Model.upload(\n",
    "        display_name=display_name,\n",
    "        artifact_uri=artifact_uri,\n",
    "        serving_container_image_uri=serving_container_image_uri,\n",
    "        sync=False\n",
    "    )"
   ]
  },
  {
   "cell_type": "code",
   "execution_count": null,
   "id": "3b6647ec-b1fa-4c8c-be9a-14ace98ed85b",
   "metadata": {},
   "outputs": [],
   "source": [
    "deployed_model_display_name = \"bikeshare-model-endpoint\"\n",
    "traffic_split = {\"0\": 100}\n",
    "machine_type = \"n1-standard-4\"\n",
    "min_replica_count = 1\n",
    "max_replica_count = 1\n",
    "\n",
    "endpoint = model.deploy(\n",
    "        deployed_model_display_name=deployed_model_display_name,\n",
    "        traffic_split=traffic_split,\n",
    "        machine_type=machine_type,\n",
    "        min_replica_count=min_replica_count,\n",
    "        max_replica_count=max_replica_count\n",
    "    )"
   ]
  },
  {
   "cell_type": "code",
   "execution_count": null,
   "id": "3990428f-d4da-41c9-a9e5-d072e9fc6d44",
   "metadata": {},
   "outputs": [],
   "source": [
    "INSTANCE = [0.24,\n",
    " 0.81,\n",
    " 0,\n",
    " 0,\n",
    " 0,\n",
    " 0,\n",
    " 0,\n",
    " 0,\n",
    " 0,\n",
    " 0,\n",
    " 0,\n",
    " 0,\n",
    " 0,\n",
    " 0,\n",
    " 0,\n",
    " 0,\n",
    " 0,\n",
    " 0,\n",
    " 0,\n",
    " 0,\n",
    " 0,\n",
    " 0,\n",
    " 0,\n",
    " 0,\n",
    " 0,\n",
    " 0,\n",
    " 0,\n",
    " 0,\n",
    " 0,\n",
    " 0,\n",
    " 0,\n",
    " 0,\n",
    " 0,\n",
    " 0,\n",
    " 0,\n",
    " 0,\n",
    " 0,\n",
    " 0,\n",
    " 0,\n",
    " 0,\n",
    " 0,\n",
    " 0,\n",
    " 0,\n",
    " 0,\n",
    " 0,\n",
    " 1,\n",
    " 0,\n",
    " 0,\n",
    " 0,\n",
    " 0]\n",
    "instances_list = [INSTANCE]\n",
    "prediction = endpoint.predict(instances_list)\n",
    "print(prediction)"
   ]
  },
  {
   "cell_type": "code",
   "execution_count": null,
   "id": "822b25c8-6007-4503-8532-1cb3a074f301",
   "metadata": {},
   "outputs": [],
   "source": [
    "gcs_input_uri = 'gs://sid-vertex-mlops/bike-share/batch-new.csv'\n",
    "BUCKET_URI = \"gs://sid-vertex-mlops/bikeshare-batch-prediction-output\"\n",
    "\n",
    "batch_predict_job = model.batch_predict(\n",
    "    job_display_name=\"bikeshare_batch_predict\",\n",
    "    gcs_source=gcs_input_uri,\n",
    "    gcs_destination_prefix=BUCKET_URI,\n",
    "    instances_format=\"csv\",\n",
    "    predictions_format=\"jsonl\",\n",
    "    machine_type=\"n1-standard-4\",\n",
    "    starting_replica_count=1,\n",
    "    max_replica_count=1,\n",
    "    generate_explanation=True,\n",
    "    sync=False\n",
    ")"
   ]
  }
 ],
 "metadata": {
  "environment": {
   "kernel": "python3",
   "name": "common-cpu.m109",
   "type": "gcloud",
   "uri": "gcr.io/deeplearning-platform-release/base-cpu:m109"
  },
  "kernelspec": {
   "display_name": "Python 3",
   "language": "python",
   "name": "python3"
  },
  "language_info": {
   "codemirror_mode": {
    "name": "ipython",
    "version": 3
   },
   "file_extension": ".py",
   "mimetype": "text/x-python",
   "name": "python",
   "nbconvert_exporter": "python",
   "pygments_lexer": "ipython3",
   "version": "3.10.11"
  }
 },
 "nbformat": 4,
 "nbformat_minor": 5
}
